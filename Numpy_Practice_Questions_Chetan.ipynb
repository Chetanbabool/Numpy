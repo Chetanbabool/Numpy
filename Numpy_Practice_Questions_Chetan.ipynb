{
 "cells": [
  {
   "cell_type": "markdown",
   "metadata": {},
   "source": [
    "# 🧠 NumPy Practice Questions\n",
    "This notebook contains beginner to intermediate level NumPy questions to strengthen your data manipulation and array programming skills."
   ]
  },
  {
   "cell_type": "markdown",
   "metadata": {},
   "source": [
    "## ✅ Beginner Level Questions"
   ]
  },
  {
   "cell_type": "code",
   "execution_count": null,
   "metadata": {},
   "outputs": [],
   "source": [
    "# 1. Create an array of 10 zeros.\n",
    "import numpy as np\n",
    "np.zeros(10)"
   ]
  },
  {
   "cell_type": "code",
   "execution_count": null,
   "metadata": {},
   "outputs": [],
   "source": [
    "# 2. Create an array of 10 ones and multiply all elements by 5.\n",
    "np.ones(10) * 5"
   ]
  },
  {
   "cell_type": "code",
   "execution_count": null,
   "metadata": {},
   "outputs": [],
   "source": [
    "# 3. Create a 1D array of numbers from 10 to 50.\n",
    "np.arange(10, 51)"
   ]
  },
  {
   "cell_type": "code",
   "execution_count": null,
   "metadata": {},
   "outputs": [],
   "source": [
    "# 4. Create a 3x3 matrix with values ranging from 0 to 8.\n",
    "np.arange(9).reshape(3, 3)"
   ]
  },
  {
   "cell_type": "code",
   "execution_count": null,
   "metadata": {},
   "outputs": [],
   "source": [
    "# 5. Find the shape and data type of the array: np.array([1, 2, 3.0])\n",
    "arr = np.array([1, 2, 3.0])\n",
    "arr.shape, arr.dtype"
   ]
  },
  {
   "cell_type": "code",
   "execution_count": null,
   "metadata": {},
   "outputs": [],
   "source": [
    "# 6. Reverse an array (e.g., [1, 2, 3, 4, 5]) using slicing.\n",
    "arr = np.array([1, 2, 3, 4, 5])\n",
    "arr[::-1]"
   ]
  },
  {
   "cell_type": "code",
   "execution_count": null,
   "metadata": {},
   "outputs": [],
   "source": [
    "# 7. Check how many non-zero elements are in [1, 0, 2, 0, 3, 4]\n",
    "arr = np.array([1, 0, 2, 0, 3, 4])\n",
    "np.count_nonzero(arr)"
   ]
  },
  {
   "cell_type": "markdown",
   "metadata": {},
   "source": [
    "## ✅ Intermediate Level Questions"
   ]
  },
  {
   "cell_type": "code",
   "execution_count": null,
   "metadata": {},
   "outputs": [],
   "source": [
    "# 8. Create a 5x5 identity matrix.\n",
    "np.eye(5)"
   ]
  },
  {
   "cell_type": "code",
   "execution_count": null,
   "metadata": {},
   "outputs": [],
   "source": [
    "# 9. Generate a random array of size (4, 4) with values between 0 and 1.\n",
    "np.random.rand(4, 4)"
   ]
  },
  {
   "cell_type": "code",
   "execution_count": null,
   "metadata": {},
   "outputs": [],
   "source": [
    "# 10. Create a 6x6 matrix with values 1 to 36 and extract the 2nd row.\n",
    "arr = np.arange(1, 37).reshape(6, 6)\n",
    "arr[1]"
   ]
  },
  {
   "cell_type": "code",
   "execution_count": null,
   "metadata": {},
   "outputs": [],
   "source": [
    "# 11. Replace all values greater than 10 in an array with 10.\n",
    "arr = np.array([5, 15, 7, 11, 2])\n",
    "arr[arr > 10] = 10\n",
    "arr"
   ]
  },
  {
   "cell_type": "code",
   "execution_count": null,
   "metadata": {},
   "outputs": [],
   "source": [
    "# 12. Split the array np.arange(16).reshape(4, 4) into 4 equal sub-arrays.\n",
    "arr = np.arange(16).reshape(4, 4)\n",
    "np.split(arr, 4)"
   ]
  },
  {
   "cell_type": "code",
   "execution_count": null,
   "metadata": {},
   "outputs": [],
   "source": [
    "# 13. Find the mean, standard deviation, and variance of an array.\n",
    "arr = np.array([1, 2, 3, 4, 5])\n",
    "arr.mean(), arr.std(), arr.var()"
   ]
  },
  {
   "cell_type": "code",
   "execution_count": null,
   "metadata": {},
   "outputs": [],
   "source": [
    "# 14. Sort a 2D array by the second column.\n",
    "arr = np.array([[1, 4], [3, 1], [5, 2]])\n",
    "arr[arr[:, 1].argsort()]"
   ]
  },
  {
   "cell_type": "code",
   "execution_count": null,
   "metadata": {},
   "outputs": [],
   "source": [
    "# 15. Create a boolean mask where values > 50 in an array are True.\n",
    "arr = np.array([10, 55, 70, 30])\n",
    "arr > 50"
   ]
  },
  {
   "cell_type": "markdown",
   "metadata": {},
   "source": [
    "## 🧠 Bonus Challenges"
   ]
  },
  {
   "cell_type": "code",
   "execution_count": null,
   "metadata": {},
   "outputs": [],
   "source": [
    "# Normalize the data (min-max scaling)\n",
    "arr = np.array([10, 20, 30, 40, 50])\n",
    "(arr - arr.min()) / (arr.max() - arr.min())"
   ]
  },
  {
   "cell_type": "code",
   "execution_count": null,
   "metadata": {},
   "outputs": [],
   "source": [
    "# Remove duplicate elements from a 1D array\n",
    "arr = np.array([1, 2, 2, 3, 4, 4, 5])\n",
    "np.unique(arr)"
   ]
  },
  {
   "cell_type": "code",
   "execution_count": null,
   "metadata": {},
   "outputs": [],
   "source": [
    "# Convert a list of lists into a NumPy matrix and find the dot product\n",
    "a = np.array([[1, 2], [3, 4]])\n",
    "b = np.array([[5, 6], [7, 8]])\n",
    "np.dot(a, b)"
   ]
  }
 ],
 "metadata": {
  "kernelspec": {
   "display_name": "Python 3",
   "language": "python",
   "name": "python3"
  },
  "language_info": {
   "name": "python",
   "version": "3.8"
  }
 },
 "nbformat": 4,
 "nbformat_minor": 5
}
