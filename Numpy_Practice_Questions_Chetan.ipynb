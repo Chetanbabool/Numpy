{
 "cells": [
  {
   "cell_type": "markdown",
   "id": "a3e2b90f-79e5-49ac-ae1b-c1fcb0679739",
   "metadata": {},
   "source": [
    "# Numpy Practice questions beginner to advanced level"
   ]
  },
  {
   "cell_type": "code",
   "execution_count": 1,
   "id": "38774f92-a1bf-4ffd-8503-1c6b0a178363",
   "metadata": {},
   "outputs": [],
   "source": [
    "import numpy as np"
   ]
  },
  {
   "cell_type": "raw",
   "id": "d16f88ea-d121-4823-aa43-60da59a2e015",
   "metadata": {},
   "source": [
    "Q1. Create a 1D NumPy array with numbers from 0 to 9."
   ]
  },
  {
   "cell_type": "code",
   "execution_count": 70,
   "id": "8cfb9998-ae39-45ea-91c7-4f7af38dc4a3",
   "metadata": {},
   "outputs": [
    {
     "data": {
      "text/plain": [
       "array([0, 1, 2, 3, 4, 5, 6, 7, 8, 9])"
      ]
     },
     "execution_count": 70,
     "metadata": {},
     "output_type": "execute_result"
    }
   ],
   "source": []
  },
  {
   "cell_type": "raw",
   "id": "1845607c-fbee-4801-9ee5-d4a248ba4d35",
   "metadata": {},
   "source": [
    "Q2. Create a 3x3 NumPy array of all zeros."
   ]
  },
  {
   "cell_type": "code",
   "execution_count": 5,
   "id": "7adf1d78-8a34-43d7-a030-91c6171e756a",
   "metadata": {},
   "outputs": [
    {
     "data": {
      "text/plain": [
       "array([[0, 0, 0],\n",
       "       [0, 0, 0],\n",
       "       [0, 0, 0]])"
      ]
     },
     "execution_count": 5,
     "metadata": {},
     "output_type": "execute_result"
    }
   ],
   "source": []
  },
  {
   "cell_type": "raw",
   "id": "db385766-8c27-4d81-969a-eec28df615a4",
   "metadata": {},
   "source": [
    "Q3. Create a 2D array with random integers between 1 and 10."
   ]
  },
  {
   "cell_type": "code",
   "execution_count": 9,
   "id": "40d32f7c-a863-49bb-8f5f-429becfe0ffc",
   "metadata": {},
   "outputs": [
    {
     "data": {
      "text/plain": [
       "array([[1, 1, 7, 8, 3, 8, 9, 7, 7, 1]])"
      ]
     },
     "execution_count": 9,
     "metadata": {},
     "output_type": "execute_result"
    }
   ],
   "source": []
  },
  {
   "cell_type": "raw",
   "id": "036df161-0e62-428d-8d93-71357ea28dd1",
   "metadata": {},
   "source": [
    "Q4. Find the shape and data type of an array."
   ]
  },
  {
   "cell_type": "code",
   "execution_count": 11,
   "id": "f3762e80-b2fc-4f0f-9d97-d20c0e86cda7",
   "metadata": {},
   "outputs": [
    {
     "data": {
      "text/plain": [
       "(3, 3)"
      ]
     },
     "execution_count": 11,
     "metadata": {},
     "output_type": "execute_result"
    }
   ],
   "source": []
  },
  {
   "cell_type": "raw",
   "id": "95e3cc35-8615-4df4-9c3d-05c7e6d2d7f9",
   "metadata": {},
   "source": [
    "Q5. Change the data type of an array from int to float."
   ]
  },
  {
   "cell_type": "code",
   "execution_count": 13,
   "id": "ef47f6e6-e690-48c9-9348-a891d81b406e",
   "metadata": {},
   "outputs": [
    {
     "data": {
      "text/plain": [
       "array([[0., 1., 2.],\n",
       "       [3., 4., 5.],\n",
       "       [6., 7., 8.]])"
      ]
     },
     "execution_count": 13,
     "metadata": {},
     "output_type": "execute_result"
    }
   ],
   "source": []
  },
  {
   "cell_type": "raw",
   "id": "b1974695-0e3f-4661-be74-071dcc60de92",
   "metadata": {},
   "source": [
    "Q6. Create a 5x5 identity matrix."
   ]
  },
  {
   "cell_type": "code",
   "execution_count": 18,
   "id": "0634eb8a-e2df-41de-953a-7d244ac8af7f",
   "metadata": {},
   "outputs": [
    {
     "data": {
      "text/plain": [
       "array([[1, 0, 0, 0, 0],\n",
       "       [0, 1, 0, 0, 0],\n",
       "       [0, 0, 1, 0, 0],\n",
       "       [0, 0, 0, 1, 0],\n",
       "       [0, 0, 0, 0, 1]])"
      ]
     },
     "execution_count": 18,
     "metadata": {},
     "output_type": "execute_result"
    }
   ],
   "source": []
  },
  {
   "cell_type": "raw",
   "id": "868c7b78-97e5-4e19-821d-c02d5e057991",
   "metadata": {},
   "source": [
    "Q7. Generate an array with 10 evenly spaced values between 0 and 1."
   ]
  },
  {
   "cell_type": "code",
   "execution_count": 20,
   "id": "607135fc-974d-4192-ac09-d469cca7c598",
   "metadata": {},
   "outputs": [
    {
     "data": {
      "text/plain": [
       "array([0.        , 0.11111111, 0.22222222, 0.33333333, 0.44444444,\n",
       "       0.55555556, 0.66666667, 0.77777778, 0.88888889, 1.        ])"
      ]
     },
     "execution_count": 20,
     "metadata": {},
     "output_type": "execute_result"
    }
   ],
   "source": []
  },
  {
   "cell_type": "raw",
   "id": "e18a33c1-363b-44c1-994e-9754637f1006",
   "metadata": {},
   "source": [
    "Q8. Reshape a 1D array of 12 elements into a 3x4 array."
   ]
  },
  {
   "cell_type": "code",
   "execution_count": 21,
   "id": "b9eaa392-e648-484d-b6b9-b7688f7cd927",
   "metadata": {},
   "outputs": [
    {
     "data": {
      "text/plain": [
       "array([[ 0,  1,  2,  3],\n",
       "       [ 4,  5,  6,  7],\n",
       "       [ 8,  9, 10, 11]])"
      ]
     },
     "execution_count": 21,
     "metadata": {},
     "output_type": "execute_result"
    }
   ],
   "source": []
  },
  {
   "cell_type": "raw",
   "id": "2b2ce791-d750-433d-83b5-7bc1b470438e",
   "metadata": {},
   "source": [
    "Q9. Stack two arrays vertically and horizontally."
   ]
  },
  {
   "cell_type": "code",
   "execution_count": 36,
   "id": "829860c3-2c6f-41ef-a478-2b225024d8b5",
   "metadata": {},
   "outputs": [
    {
     "name": "stdout",
     "output_type": "stream",
     "text": [
      "[[ 0  1  2]\n",
      " [ 3  4  5]\n",
      " [ 6  7  8]\n",
      " [ 9 10 11]\n",
      " [12 13 14]\n",
      " [15 16 17]]\n",
      "[[ 0  1  2  9 10 11]\n",
      " [ 3  4  5 12 13 14]\n",
      " [ 6  7  8 15 16 17]]\n"
     ]
    }
   ],
   "source": []
  },
  {
   "cell_type": "raw",
   "id": "7b0981f5-de1c-4223-ac6f-42f2fa0775a6",
   "metadata": {},
   "source": [
    "Q10. Extract all odd numbers from a 1D array."
   ]
  },
  {
   "cell_type": "code",
   "execution_count": 43,
   "id": "3d20a520-39c8-44a5-9124-817778c150f4",
   "metadata": {},
   "outputs": [
    {
     "data": {
      "text/plain": [
       "array([ 1,  3,  5,  7,  9, 11, 13, 15, 17, 19, 21, 23, 25, 27, 29, 31, 33,\n",
       "       35, 37, 39, 41, 43, 45, 47, 49, 51, 53, 55, 57, 59, 61, 63, 65, 67,\n",
       "       69, 71, 73, 75, 77, 79, 81, 83, 85, 87, 89, 91, 93, 95, 97, 99])"
      ]
     },
     "execution_count": 43,
     "metadata": {},
     "output_type": "execute_result"
    }
   ],
   "source": []
  },
  {
   "cell_type": "raw",
   "id": "ed71a382-b510-4544-bfeb-d60a34a082a6",
   "metadata": {},
   "source": [
    "Q11. Replace all odd numbers in a NumPy array with -1."
   ]
  },
  {
   "cell_type": "code",
   "execution_count": 46,
   "id": "1d6be7e2-e341-43ad-9721-e9287cf1a3bd",
   "metadata": {},
   "outputs": [
    {
     "data": {
      "text/plain": [
       "array([ 0, -1,  2, -1,  4, -1,  6, -1,  8, -1, 10, -1, 12, -1, 14, -1, 16,\n",
       "       -1, 18, -1, 20, -1, 22, -1, 24, -1, 26, -1, 28, -1, 30, -1, 32, -1,\n",
       "       34, -1, 36, -1, 38, -1, 40, -1, 42, -1, 44, -1, 46, -1, 48, -1, 50,\n",
       "       -1, 52, -1, 54, -1, 56, -1, 58, -1, 60, -1, 62, -1, 64, -1, 66, -1,\n",
       "       68, -1, 70, -1, 72, -1, 74, -1, 76, -1, 78, -1, 80, -1, 82, -1, 84,\n",
       "       -1, 86, -1, 88, -1, 90, -1, 92, -1, 94, -1, 96, -1, 98, -1])"
      ]
     },
     "execution_count": 46,
     "metadata": {},
     "output_type": "execute_result"
    }
   ],
   "source": []
  },
  {
   "cell_type": "raw",
   "id": "cced39a5-0a44-42b0-968f-e3efa09375d7",
   "metadata": {},
   "source": [
    "Q12. Normalize a NumPy array (subtract mean and divide by std)."
   ]
  },
  {
   "cell_type": "code",
   "execution_count": 65,
   "id": "ee64d147-9d78-4602-97ad-ce10135606ca",
   "metadata": {},
   "outputs": [
    {
     "data": {
      "text/plain": [
       "array([[ 0.38368287,  0.5312532 ,  0.9739642 , -0.94445014, -1.82987214],\n",
       "       [-0.94445014,  0.9739642 ,  0.82639387, -0.3541688 ,  1.41667521],\n",
       "       [-1.97744248,  0.9739642 ,  0.0885422 ,  1.12153454,  0.0885422 ],\n",
       "       [-0.64930947,  0.67882354,  0.0885422 , -1.68230181, -0.20659847],\n",
       "       [ 1.12153454, -0.94445014,  0.82639387,  0.67882354, -1.23959081]])"
      ]
     },
     "execution_count": 65,
     "metadata": {},
     "output_type": "execute_result"
    }
   ],
   "source": []
  },
  {
   "cell_type": "raw",
   "id": "141fdd73-6eb5-4205-98c6-0d6162502f6d",
   "metadata": {},
   "source": [
    "Q13. Compute the correlation coefficient matrix of a 2D array."
   ]
  },
  {
   "cell_type": "code",
   "execution_count": 60,
   "id": "f472f2cc-f67b-4cfe-8da5-aa54ec3dfd06",
   "metadata": {},
   "outputs": [
    {
     "data": {
      "text/plain": [
       "array([[ 1.        , -0.73507943,  0.21226368,  0.40466252, -0.35499065],\n",
       "       [-0.73507943,  1.        ,  0.31560534, -0.84163911,  0.60392191],\n",
       "       [ 0.21226368,  0.31560534,  1.        , -0.21271115, -0.15159804],\n",
       "       [ 0.40466252, -0.84163911, -0.21271115,  1.        , -0.68017531],\n",
       "       [-0.35499065,  0.60392191, -0.15159804, -0.68017531,  1.        ]])"
      ]
     },
     "execution_count": 60,
     "metadata": {},
     "output_type": "execute_result"
    }
   ],
   "source": []
  },
  {
   "cell_type": "raw",
   "id": "c497174d-408a-417e-b276-02b47777481d",
   "metadata": {},
   "source": [
    "Q15. Write a vectorized implementation to compute Euclidean distance between two 1D arrays."
   ]
  },
  {
   "cell_type": "code",
   "execution_count": 68,
   "id": "167fa0da-b063-4d7f-b624-cd65938dddba",
   "metadata": {},
   "outputs": [
    {
     "name": "stdout",
     "output_type": "stream",
     "text": [
      "5.196152422706632\n"
     ]
    }
   ],
   "source": []
  }
 ],
 "metadata": {
  "kernelspec": {
   "display_name": "Python 3 (ipykernel)",
   "language": "python",
   "name": "python3"
  },
  "language_info": {
   "codemirror_mode": {
    "name": "ipython",
    "version": 3
   },
   "file_extension": ".py",
   "mimetype": "text/x-python",
   "name": "python",
   "nbconvert_exporter": "python",
   "pygments_lexer": "ipython3",
   "version": "3.12.7"
  }
 },
 "nbformat": 4,
 "nbformat_minor": 5
}
