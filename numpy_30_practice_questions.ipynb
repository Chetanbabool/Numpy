{
 "cells": [
  {
   "cell_type": "markdown",
   "id": "d2f7fa08",
   "metadata": {},
   "source": [
    "# NumPy 30 Practice Questions (Beginner to Advanced)\n",
    "This notebook contains 30 practice questions covering all important topics of NumPy."
   ]
  },
  {
   "cell_type": "markdown",
   "id": "1fe05ec5",
   "metadata": {},
   "source": [
    "## 1. Create a 1D NumPy array of numbers from 0 to 9."
   ]
  },
  {
   "cell_type": "code",
   "execution_count": 90,
   "id": "ed3ace88-ae63-478a-af8a-c9eb12c1ef3e",
   "metadata": {},
   "outputs": [],
   "source": [
    "import numpy as np"
   ]
  },
  {
   "cell_type": "code",
   "execution_count": 2,
   "id": "fd24c3b1",
   "metadata": {},
   "outputs": [
    {
     "data": {
      "text/plain": [
       "array([0, 1, 2, 3, 4, 5, 6, 7, 8, 9])"
      ]
     },
     "execution_count": 2,
     "metadata": {},
     "output_type": "execute_result"
    }
   ],
   "source": [
    "np.arange(10)"
   ]
  },
  {
   "cell_type": "markdown",
   "id": "540de60c",
   "metadata": {},
   "source": [
    "## 2. Create a 3x3 NumPy array filled with zeros."
   ]
  },
  {
   "cell_type": "code",
   "execution_count": 4,
   "id": "13d8ccb9",
   "metadata": {},
   "outputs": [
    {
     "data": {
      "text/plain": [
       "array([[0, 0, 0],\n",
       "       [0, 0, 0],\n",
       "       [0, 0, 0]])"
      ]
     },
     "execution_count": 4,
     "metadata": {},
     "output_type": "execute_result"
    }
   ],
   "source": [
    "np.zeros(9).reshape(3,3).astype(int)"
   ]
  },
  {
   "cell_type": "markdown",
   "id": "3ea4b8bf",
   "metadata": {},
   "source": [
    "## 3. Create a 5x5 identity matrix using NumPy."
   ]
  },
  {
   "cell_type": "code",
   "execution_count": 5,
   "id": "d868a8c0",
   "metadata": {},
   "outputs": [
    {
     "data": {
      "text/plain": [
       "array([[1, 0, 0, 0, 0],\n",
       "       [0, 1, 0, 0, 0],\n",
       "       [0, 0, 1, 0, 0],\n",
       "       [0, 0, 0, 1, 0],\n",
       "       [0, 0, 0, 0, 1]])"
      ]
     },
     "execution_count": 5,
     "metadata": {},
     "output_type": "execute_result"
    }
   ],
   "source": [
    "np.eye(5).astype(int)"
   ]
  },
  {
   "cell_type": "markdown",
   "id": "d7af9966",
   "metadata": {},
   "source": [
    "## 4. Create a NumPy array of 10 random floats between 0 and 1."
   ]
  },
  {
   "cell_type": "code",
   "execution_count": 9,
   "id": "38451d2e",
   "metadata": {},
   "outputs": [
    {
     "data": {
      "text/plain": [
       "array([0.34581736, 0.3024294 , 0.51729291, 0.45610095, 0.0244233 ,\n",
       "       0.140084  , 0.39930756, 0.60636335, 0.32298628, 0.22174503])"
      ]
     },
     "execution_count": 9,
     "metadata": {},
     "output_type": "execute_result"
    }
   ],
   "source": [
    "np.random.rand(10)"
   ]
  },
  {
   "cell_type": "markdown",
   "id": "9b2fb265",
   "metadata": {},
   "source": [
    "## 5. Create a 2D array and reshape it from 1D to 2D."
   ]
  },
  {
   "cell_type": "code",
   "execution_count": 10,
   "id": "93edb2cb",
   "metadata": {},
   "outputs": [
    {
     "data": {
      "text/plain": [
       "array([[ 0,  1,  2,  3,  4],\n",
       "       [ 5,  6,  7,  8,  9],\n",
       "       [10, 11, 12, 13, 14],\n",
       "       [15, 16, 17, 18, 19],\n",
       "       [20, 21, 22, 23, 24]])"
      ]
     },
     "execution_count": 10,
     "metadata": {},
     "output_type": "execute_result"
    }
   ],
   "source": [
    "np.arange(25).reshape(5,5)"
   ]
  },
  {
   "cell_type": "markdown",
   "id": "07bd885a",
   "metadata": {},
   "source": [
    "## 6. Create a NumPy array and find its data type."
   ]
  },
  {
   "cell_type": "code",
   "execution_count": 16,
   "id": "bfe6ae74",
   "metadata": {},
   "outputs": [
    {
     "data": {
      "text/plain": [
       "dtype('int32')"
      ]
     },
     "execution_count": 16,
     "metadata": {},
     "output_type": "execute_result"
    }
   ],
   "source": [
    "np.arange(25).dtype"
   ]
  },
  {
   "cell_type": "markdown",
   "id": "b4dfe2a0",
   "metadata": {},
   "source": [
    "## 7. Perform element-wise addition on two NumPy arrays."
   ]
  },
  {
   "cell_type": "code",
   "execution_count": 23,
   "id": "3fc27436",
   "metadata": {},
   "outputs": [
    {
     "name": "stdout",
     "output_type": "stream",
     "text": [
      "[[10 12 14 16 18]\n",
      " [20 22 24 26 28]]\n"
     ]
    }
   ],
   "source": [
    "arr_1 = np.arange(10).reshape(2,5)\n",
    "arr_2 = np.arange(10,20).reshape(2,5)\n",
    "print(arr_1+arr_2)"
   ]
  },
  {
   "cell_type": "markdown",
   "id": "c6f32b5d",
   "metadata": {},
   "source": [
    "## 8. Create a 1D array and slice the first 5 elements."
   ]
  },
  {
   "cell_type": "code",
   "execution_count": 28,
   "id": "b9b18d5a",
   "metadata": {},
   "outputs": [
    {
     "data": {
      "text/plain": [
       "array([0, 1, 2, 3, 4])"
      ]
     },
     "execution_count": 28,
     "metadata": {},
     "output_type": "execute_result"
    }
   ],
   "source": [
    "np.arange(10)[0:5]"
   ]
  },
  {
   "cell_type": "markdown",
   "id": "7297b177",
   "metadata": {},
   "source": [
    "## 9. Find the maximum and minimum values in a NumPy array."
   ]
  },
  {
   "cell_type": "code",
   "execution_count": 30,
   "id": "ea7a237d",
   "metadata": {},
   "outputs": [
    {
     "name": "stdout",
     "output_type": "stream",
     "text": [
      "12\n",
      "92\n"
     ]
    }
   ],
   "source": [
    "find_values = np.random.randint(0,100,10)\n",
    "print(np.min(find_values))\n",
    "print(np.max(find_values))"
   ]
  },
  {
   "cell_type": "markdown",
   "id": "f14927dd",
   "metadata": {},
   "source": [
    "## 10. Use boolean indexing to filter values greater than 5 in a NumPy array."
   ]
  },
  {
   "cell_type": "code",
   "execution_count": 36,
   "id": "fb632117",
   "metadata": {},
   "outputs": [
    {
     "data": {
      "text/plain": [
       "array([8, 7, 7])"
      ]
     },
     "execution_count": 36,
     "metadata": {},
     "output_type": "execute_result"
    }
   ],
   "source": [
    "find_values = np.random.randint(0,10,10)\n",
    "find_values[find_values>5]"
   ]
  },
  {
   "cell_type": "markdown",
   "id": "0541afaf",
   "metadata": {},
   "source": [
    "## 11. Generate a 4x4 array with values from 0 to 15 and transpose it."
   ]
  },
  {
   "cell_type": "code",
   "execution_count": 38,
   "id": "9d7ecc58",
   "metadata": {},
   "outputs": [
    {
     "data": {
      "text/plain": [
       "array([[ 0,  4,  8, 12],\n",
       "       [ 1,  5,  9, 13],\n",
       "       [ 2,  6, 10, 14],\n",
       "       [ 3,  7, 11, 15]])"
      ]
     },
     "execution_count": 38,
     "metadata": {},
     "output_type": "execute_result"
    }
   ],
   "source": [
    "transpose_arr = np.arange(16).reshape(4,4)\n",
    "np.transpose(transpose_arr)"
   ]
  },
  {
   "cell_type": "markdown",
   "id": "8303e7db",
   "metadata": {},
   "source": [
    "## 12. Stack two arrays vertically and horizontally using NumPy."
   ]
  },
  {
   "cell_type": "code",
   "execution_count": 42,
   "id": "e1442b1d",
   "metadata": {},
   "outputs": [
    {
     "name": "stdout",
     "output_type": "stream",
     "text": [
      "[[ 0  1  2]\n",
      " [ 3  4  5]\n",
      " [ 6  7  8]\n",
      " [ 9 10 11]\n",
      " [12 13 14]\n",
      " [15 16 17]]\n",
      "[[ 0  1  2  9 10 11]\n",
      " [ 3  4  5 12 13 14]\n",
      " [ 6  7  8 15 16 17]]\n"
     ]
    }
   ],
   "source": [
    "arr_1 = np.arange(9).reshape(3,3)\n",
    "arr_2 = np.arange(9,18).reshape(3,3)\n",
    "print(np.vstack((arr_1,arr_2)))\n",
    "print(np.hstack((arr_1,arr_2)))"
   ]
  },
  {
   "cell_type": "markdown",
   "id": "a63ff07c",
   "metadata": {},
   "source": [
    "## 13. Flatten a multi-dimensional NumPy array."
   ]
  },
  {
   "cell_type": "code",
   "execution_count": 45,
   "id": "e335ed4e",
   "metadata": {},
   "outputs": [
    {
     "data": {
      "text/plain": [
       "array([ 0,  1,  2,  3,  4,  5,  6,  7,  8,  9, 10, 11, 12, 13, 14, 15, 16,\n",
       "       17, 18, 19, 20, 21, 22, 23, 24, 25, 26, 27, 28, 29, 30, 31, 32, 33,\n",
       "       34, 35, 36, 37, 38, 39, 40, 41, 42, 43, 44, 45, 46, 47, 48, 49, 50,\n",
       "       51, 52, 53, 54, 55, 56, 57, 58, 59, 60, 61, 62, 63, 64, 65, 66, 67,\n",
       "       68, 69, 70, 71, 72, 73, 74, 75, 76, 77, 78, 79, 80, 81, 82, 83, 84,\n",
       "       85, 86, 87, 88, 89, 90, 91, 92, 93, 94, 95])"
      ]
     },
     "execution_count": 45,
     "metadata": {},
     "output_type": "execute_result"
    }
   ],
   "source": [
    "flattern_arr = np.arange(96).reshape(4,4,2,3)\n",
    "flattern_arr.flatten()"
   ]
  },
  {
   "cell_type": "markdown",
   "id": "736785b2",
   "metadata": {},
   "source": [
    "## 14. Use broadcasting to add a 1D array to each row of a 2D array."
   ]
  },
  {
   "cell_type": "code",
   "execution_count": 46,
   "id": "f5c4f6ce",
   "metadata": {},
   "outputs": [
    {
     "name": "stdout",
     "output_type": "stream",
     "text": [
      "[[ 0  2  4]\n",
      " [ 3  5  7]\n",
      " [ 6  8 10]]\n"
     ]
    }
   ],
   "source": [
    "bdc_arr = np.arange(3)\n",
    "arr_2d = np.arange(9).reshape(3,3)\n",
    "print(arr_2d + bdc_arr)"
   ]
  },
  {
   "cell_type": "markdown",
   "id": "7901e7d5",
   "metadata": {},
   "source": [
    "## 15. Calculate the mean, median, and standard deviation of a NumPy array."
   ]
  },
  {
   "cell_type": "code",
   "execution_count": 48,
   "id": "6a75af89",
   "metadata": {},
   "outputs": [
    {
     "name": "stdout",
     "output_type": "stream",
     "text": [
      "3.9\n",
      "3.5\n",
      "2.6248809496813377\n"
     ]
    }
   ],
   "source": [
    "finder_values = np.random.randint(0,100,50)\n",
    "print(np.mean(find_values))\n",
    "print(np.median(find_values))\n",
    "print(np.std(find_values))"
   ]
  },
  {
   "cell_type": "markdown",
   "id": "06608557",
   "metadata": {},
   "source": [
    "## 16. Create a 5x5 array with random integers and normalize the array."
   ]
  },
  {
   "cell_type": "code",
   "execution_count": 49,
   "id": "76339e33",
   "metadata": {},
   "outputs": [
    {
     "data": {
      "text/plain": [
       "array([[0.45833333, 0.375     , 0.29166667, 0.20833333, 1.        ],\n",
       "       [0.20833333, 0.125     , 0.91666667, 0.66666667, 0.875     ],\n",
       "       [0.16666667, 0.54166667, 0.        , 0.83333333, 0.08333333],\n",
       "       [0.95833333, 0.83333333, 0.45833333, 0.54166667, 0.20833333],\n",
       "       [0.375     , 0.375     , 0.625     , 0.20833333, 0.625     ]])"
      ]
     },
     "execution_count": 49,
     "metadata": {},
     "output_type": "execute_result"
    }
   ],
   "source": [
    "normalize_arr = np.random.randint(0,25,25).reshape(5,5)\n",
    "final_output = (normalize_arr - np.min(normalize_arr)) / (np.max(normalize_arr) - np.min(normalize_arr))\n",
    "final_output"
   ]
  },
  {
   "cell_type": "markdown",
   "id": "987ba779",
   "metadata": {},
   "source": [
    "## 17. Read a CSV file (numeric data) into a NumPy array."
   ]
  },
  {
   "cell_type": "markdown",
   "id": "b07791c8-e112-4d6b-be50-00447f72fa4e",
   "metadata": {},
   "source": [
    "#### You can skip this"
   ]
  },
  {
   "cell_type": "markdown",
   "id": "8a246631",
   "metadata": {},
   "source": [
    "## 18. Replace all even numbers in a NumPy array with -1."
   ]
  },
  {
   "cell_type": "code",
   "execution_count": 55,
   "id": "bbf1d4d0",
   "metadata": {},
   "outputs": [
    {
     "data": {
      "text/plain": [
       "array([15, 69, 61, -1, -1, -1, -1, -1, 33,  3, -1, 65, -1, -1, -1, -1, -1,\n",
       "       75, -1, -1, 33, -1,  9, -1, 21, 47, -1, 77, -1, -1, 93, -1, 55, -1,\n",
       "       11, -1, 67, -1,  9, 87, 29, -1, 77, 49, -1, 51, -1, 59, 53, -1])"
      ]
     },
     "execution_count": 55,
     "metadata": {},
     "output_type": "execute_result"
    }
   ],
   "source": [
    "sample_arr = np.random.randint(0,100,50)\n",
    "sample_arr[sample_arr%2==0]=-1\n",
    "sample_arr"
   ]
  },
  {
   "cell_type": "markdown",
   "id": "aa4959c8",
   "metadata": {},
   "source": [
    "## 19. Find the unique elements in a NumPy array."
   ]
  },
  {
   "cell_type": "code",
   "execution_count": 58,
   "id": "759e8780",
   "metadata": {},
   "outputs": [
    {
     "name": "stdout",
     "output_type": "stream",
     "text": [
      "[0 1 2 3 4 5 6 8 9]\n"
     ]
    }
   ],
   "source": [
    "val_arr = np.random.randint(0,10,20)\n",
    "print(np.unique(val_arr))"
   ]
  },
  {
   "cell_type": "markdown",
   "id": "9f83195e",
   "metadata": {},
   "source": [
    "## 20. Perform dot product on two matrices."
   ]
  },
  {
   "cell_type": "code",
   "execution_count": 61,
   "id": "81751162",
   "metadata": {},
   "outputs": [
    {
     "name": "stdout",
     "output_type": "stream",
     "text": [
      "[[ 42  45  48]\n",
      " [150 162 174]\n",
      " [258 279 300]]\n"
     ]
    }
   ],
   "source": [
    "matric_1st = np.matrix(np.arange(9).reshape(3,3))\n",
    "matric_2st = np.matrix(np.arange(9,18).reshape(3,3))\n",
    "print(np.dot(matric_1st,matric_2st))"
   ]
  },
  {
   "cell_type": "markdown",
   "id": "31227b43",
   "metadata": {},
   "source": [
    "## 21. Create a custom universal function using np.vectorize()."
   ]
  },
  {
   "cell_type": "code",
   "execution_count": 68,
   "id": "b1dc05ea",
   "metadata": {},
   "outputs": [
    {
     "data": {
      "text/plain": [
       "array(['Even number', 'odd number', 'Even number', 'Even number',\n",
       "       'Even number', 'Even number', 'odd number', 'odd number',\n",
       "       'Even number', 'Even number', 'odd number', 'odd number',\n",
       "       'Even number', 'Even number', 'Even number', 'Even number',\n",
       "       'Even number', 'Even number', 'odd number', 'odd number',\n",
       "       'Even number', 'Even number', 'Even number', 'Even number',\n",
       "       'Even number', 'Even number', 'Even number', 'odd number',\n",
       "       'odd number', 'odd number', 'odd number', 'Even number',\n",
       "       'odd number', 'Even number', 'Even number', 'Even number',\n",
       "       'Even number', 'odd number', 'odd number', 'odd number'],\n",
       "      dtype='<U11')"
      ]
     },
     "execution_count": 68,
     "metadata": {},
     "output_type": "execute_result"
    }
   ],
   "source": [
    "def even_no_finder(a,b):\n",
    "    if a%b==0:\n",
    "        return 'Even number'\n",
    "    else:\n",
    "        return 'odd number'\n",
    "sample_arr = np.vectorize(even_no_finder)\n",
    "sample_arr(np.random.randint(10,30,40),2)"
   ]
  },
  {
   "cell_type": "markdown",
   "id": "fe4d422a",
   "metadata": {},
   "source": [
    "## 22. Use np.where() to replace values based on a condition."
   ]
  },
  {
   "cell_type": "code",
   "execution_count": 73,
   "id": "419cdf62",
   "metadata": {},
   "outputs": [
    {
     "data": {
      "text/plain": [
       "array([324, 324,  13,  19,  36,   9,   5, 144,  11,   7,  16,   9,   0,\n",
       "        15,  11,  16,   4, 196,  36, 256,   4,  19,   9,  16, 100,  19,\n",
       "         7, 100,  13, 144])"
      ]
     },
     "execution_count": 73,
     "metadata": {},
     "output_type": "execute_result"
    }
   ],
   "source": [
    "where_arr = np.random.randint(0,20,30)\n",
    "np.where(where_arr%2==0,where_arr**2,where_arr)"
   ]
  },
  {
   "cell_type": "markdown",
   "id": "af88c2d4",
   "metadata": {},
   "source": [
    "## 23. Sort a NumPy array by the second column."
   ]
  },
  {
   "cell_type": "code",
   "execution_count": 79,
   "id": "fbe9bca5",
   "metadata": {},
   "outputs": [
    {
     "data": {
      "text/plain": [
       "array([[43, 11, 42],\n",
       "       [ 0, 28, 54],\n",
       "       [12, 47, 57]])"
      ]
     },
     "execution_count": 79,
     "metadata": {},
     "output_type": "execute_result"
    }
   ],
   "source": [
    "sort_arr = np.random.randint(0,60,9).reshape(3,3)\n",
    "sort_arr[sort_arr[:,1].argsort()]"
   ]
  },
  {
   "cell_type": "markdown",
   "id": "78aa497b",
   "metadata": {},
   "source": [
    "## 24. Compute the correlation coefficient between two arrays."
   ]
  },
  {
   "cell_type": "code",
   "execution_count": 85,
   "id": "aee9589b",
   "metadata": {},
   "outputs": [
    {
     "name": "stdout",
     "output_type": "stream",
     "text": [
      "[[ 1.         -0.40187463]\n",
      " [-0.40187463  1.        ]]\n"
     ]
    }
   ],
   "source": [
    "arr_1st = np.random.randint(0,9,9)\n",
    "arr_2st = np.random.randint(9,18,9)\n",
    "print(np.corrcoef(arr_1st,arr_2st))"
   ]
  },
  {
   "cell_type": "markdown",
   "id": "7a4565d9",
   "metadata": {},
   "source": [
    "## 25. Create a structured array and access specific fields."
   ]
  },
  {
   "cell_type": "code",
   "execution_count": 88,
   "id": "7589e6ce",
   "metadata": {},
   "outputs": [
    {
     "data": {
      "text/plain": [
       "array(['Chetan', 'Kushal'], dtype='<U10')"
      ]
     },
     "execution_count": 88,
     "metadata": {},
     "output_type": "execute_result"
    }
   ],
   "source": [
    "dtype = [('name', 'U10'), ('age', 'i4'), ('marks', 'f4')]\n",
    "data = np.array([('Chetan', 23, 85.5), ('Kushal', 21, 90.0)], dtype=dtype)\n",
    "data['name']"
   ]
  },
  {
   "cell_type": "markdown",
   "id": "9cd3cec0",
   "metadata": {},
   "source": [
    "## 26. Generate a 3D array and apply slicing on the third dimension."
   ]
  },
  {
   "cell_type": "code",
   "execution_count": 96,
   "id": "ec4d10e8",
   "metadata": {},
   "outputs": [
    {
     "data": {
      "text/plain": [
       "array([[18, 19, 20],\n",
       "       [21, 22, 23],\n",
       "       [24, 25, 26]])"
      ]
     },
     "execution_count": 96,
     "metadata": {},
     "output_type": "execute_result"
    }
   ],
   "source": [
    "arr_3d = np.arange(27).reshape(3,3,3)\n",
    "arr_3d[2]"
   ]
  },
  {
   "cell_type": "markdown",
   "id": "e76ad457",
   "metadata": {},
   "source": [
    "## 27. Use NumPy to simulate 1000 coin tosses and count occurrences."
   ]
  },
  {
   "cell_type": "code",
   "execution_count": null,
   "id": "912aee63",
   "metadata": {},
   "outputs": [],
   "source": [
    "# Your code hereimport numpy as np\n",
    "\n",
    "# Simulate 1000 coin tosses (0 = Tails, 1 = Heads)\n",
    "tosses = np.random.randint(0, 2, size=1000)\n",
    "\n",
    "# Count occurrences\n",
    "tails, heads = np.bincount(tosses)\n",
    "\n",
    "print(f\"Heads: {heads}\")\n",
    "print(f\"Tails: {tails}\")"
   ]
  },
  {
   "cell_type": "code",
   "execution_count": null,
   "id": "47065964-4c4f-4e50-8ee6-a9128ef92b6f",
   "metadata": {},
   "outputs": [],
   "source": []
  },
  {
   "cell_type": "markdown",
   "id": "a73ce7a5",
   "metadata": {},
   "source": [
    "## 28. Perform linear algebra operations like inverse and determinant."
   ]
  },
  {
   "cell_type": "code",
   "execution_count": 113,
   "id": "dac543a6",
   "metadata": {},
   "outputs": [
    {
     "data": {
      "text/plain": [
       "matrix([[-0.66666667,  0.66666667,  0.33333333],\n",
       "        [ 0.55555556, -0.55555556, -0.11111111],\n",
       "        [-0.37037037,  0.53703704,  0.07407407]])"
      ]
     },
     "execution_count": 113,
     "metadata": {},
     "output_type": "execute_result"
    }
   ],
   "source": [
    "arr_3d = np.random.randint(0,9,9).reshape(3,3)\n",
    "arr_3d\n",
    "np.linalg.det(arr_3d)\n",
    "np.linalg.inv(np.matrix(arr_3d))"
   ]
  }
 ],
 "metadata": {
  "kernelspec": {
   "display_name": "Python 3 (ipykernel)",
   "language": "python",
   "name": "python3"
  },
  "language_info": {
   "codemirror_mode": {
    "name": "ipython",
    "version": 3
   },
   "file_extension": ".py",
   "mimetype": "text/x-python",
   "name": "python",
   "nbconvert_exporter": "python",
   "pygments_lexer": "ipython3",
   "version": "3.12.7"
  }
 },
 "nbformat": 4,
 "nbformat_minor": 5
}
