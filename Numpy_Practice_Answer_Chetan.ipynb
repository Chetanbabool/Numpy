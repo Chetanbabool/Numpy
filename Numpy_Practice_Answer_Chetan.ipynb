{
 "cells": [
  {
   "cell_type": "markdown",
   "id": "70c1def9",
   "metadata": {},
   "source": [
    "# 🧠 NumPy Practice Questions\n",
    "This notebook contains beginner to intermediate level NumPy questions to strengthen your data manipulation and array programming skills."
   ]
  },
  {
   "cell_type": "markdown",
   "id": "99dba76c",
   "metadata": {},
   "source": [
    "## ✅ Beginner Level Questions"
   ]
  },
  {
   "cell_type": "code",
   "execution_count": 1,
   "id": "55358a2e-4d4d-4fc6-8623-75707e2c543d",
   "metadata": {},
   "outputs": [],
   "source": [
    "# 1. Create an array of 10 zeros."
   ]
  },
  {
   "cell_type": "code",
   "execution_count": 2,
   "id": "60f738dd-fe46-40af-b6c8-0ee319acf7dc",
   "metadata": {},
   "outputs": [],
   "source": [
    "import numpy as np"
   ]
  },
  {
   "cell_type": "code",
   "execution_count": 3,
   "id": "05f4b794-5afe-42fc-a0fa-7f2303194579",
   "metadata": {},
   "outputs": [
    {
     "data": {
      "text/plain": [
       "array([0., 0., 0., 0., 0., 0., 0., 0., 0., 0.])"
      ]
     },
     "execution_count": 3,
     "metadata": {},
     "output_type": "execute_result"
    }
   ],
   "source": [
    "np.zeros(10)"
   ]
  },
  {
   "cell_type": "code",
   "execution_count": 4,
   "id": "48c0c2c4-f3ee-4bf8-901f-799858c01ae8",
   "metadata": {},
   "outputs": [],
   "source": [
    "# 2. Create an array of 10 ones and multiply all elements by 5."
   ]
  },
  {
   "cell_type": "code",
   "execution_count": 5,
   "id": "cdf21161-f6a3-43c6-9ba3-c4c6a759e6f0",
   "metadata": {},
   "outputs": [
    {
     "data": {
      "text/plain": [
       "array([5, 5, 5, 5, 5, 5, 5, 5, 5, 5])"
      ]
     },
     "execution_count": 5,
     "metadata": {},
     "output_type": "execute_result"
    }
   ],
   "source": [
    "np.full(10,5)"
   ]
  },
  {
   "cell_type": "code",
   "execution_count": 6,
   "id": "ec23d686-d7cb-4a38-9e0a-9ce789e121e2",
   "metadata": {},
   "outputs": [
    {
     "data": {
      "text/plain": [
       "array([5, 5, 5, 5, 5, 5, 5, 5, 5, 5])"
      ]
     },
     "execution_count": 6,
     "metadata": {},
     "output_type": "execute_result"
    }
   ],
   "source": [
    "(np.ones(10)*5).astype(int)"
   ]
  },
  {
   "cell_type": "code",
   "execution_count": 7,
   "id": "5d7b48b7-3af9-43a3-ba8c-1cee1a804562",
   "metadata": {},
   "outputs": [],
   "source": [
    "# 3. Create a 1D array of numbers from 10 to 50."
   ]
  },
  {
   "cell_type": "code",
   "execution_count": 8,
   "id": "56fe10c8-b562-4585-b5a1-08c7d774dbeb",
   "metadata": {},
   "outputs": [
    {
     "data": {
      "text/plain": [
       "array([10, 11, 12, 13, 14, 15, 16, 17, 18, 19, 20, 21, 22, 23, 24, 25, 26,\n",
       "       27, 28, 29, 30, 31, 32, 33, 34, 35, 36, 37, 38, 39, 40, 41, 42, 43,\n",
       "       44, 45, 46, 47, 48, 49])"
      ]
     },
     "execution_count": 8,
     "metadata": {},
     "output_type": "execute_result"
    }
   ],
   "source": [
    "np.arange(10,50)"
   ]
  },
  {
   "cell_type": "code",
   "execution_count": 9,
   "id": "f73d0900-5dd6-4042-8a76-668f7f857d2f",
   "metadata": {},
   "outputs": [],
   "source": [
    "# 4. Create a 3x3 matrix with values ranging from 0 to 8."
   ]
  },
  {
   "cell_type": "code",
   "execution_count": 10,
   "id": "92afa089-90e4-44b0-959c-99923541d1e2",
   "metadata": {},
   "outputs": [
    {
     "data": {
      "text/plain": [
       "array([[0, 1, 2],\n",
       "       [3, 4, 5],\n",
       "       [6, 7, 8]])"
      ]
     },
     "execution_count": 10,
     "metadata": {},
     "output_type": "execute_result"
    }
   ],
   "source": [
    "np.arange(0,9).reshape(3,3)"
   ]
  },
  {
   "cell_type": "code",
   "execution_count": 11,
   "id": "b2857c03",
   "metadata": {},
   "outputs": [],
   "source": [
    "# 5. Find the shape and data type of the array: np.array([1, 2, 3.0])"
   ]
  },
  {
   "cell_type": "code",
   "execution_count": 12,
   "id": "11661a53-fb15-4238-af0b-9b3c570cb533",
   "metadata": {},
   "outputs": [],
   "source": [
    "new_arr = np.array([1,2,3.0])"
   ]
  },
  {
   "cell_type": "code",
   "execution_count": 13,
   "id": "b585e124-d212-4d5d-abad-d9e98079daef",
   "metadata": {},
   "outputs": [
    {
     "data": {
      "text/plain": [
       "((3,), dtype('float64'))"
      ]
     },
     "execution_count": 13,
     "metadata": {},
     "output_type": "execute_result"
    }
   ],
   "source": [
    "new_arr.shape,new_arr.dtype"
   ]
  },
  {
   "cell_type": "code",
   "execution_count": 14,
   "id": "80a4a886-8aeb-42bc-aacd-215bb032396a",
   "metadata": {},
   "outputs": [],
   "source": [
    "# 6. Reverse an array (e.g., [1, 2, 3, 4, 5]) using slicing."
   ]
  },
  {
   "cell_type": "code",
   "execution_count": 15,
   "id": "647a2340-d46f-4da3-baa8-ff1b573fa159",
   "metadata": {},
   "outputs": [
    {
     "data": {
      "text/plain": [
       "array([5, 4, 3, 2, 1])"
      ]
     },
     "execution_count": 15,
     "metadata": {},
     "output_type": "execute_result"
    }
   ],
   "source": [
    "test = np.array([1, 2, 3, 4, 5])\n",
    "test[::-1]"
   ]
  },
  {
   "cell_type": "code",
   "execution_count": 16,
   "id": "f0e74fad-6a5d-4d6b-a664-20977e782c2e",
   "metadata": {},
   "outputs": [],
   "source": [
    "# 7. Check how many non-zero elements are in [1, 0, 2, 0, 3, 4]"
   ]
  },
  {
   "cell_type": "code",
   "execution_count": 17,
   "id": "2ef2b32d-5798-438c-865b-e1c7e1d06aff",
   "metadata": {},
   "outputs": [
    {
     "name": "stdout",
     "output_type": "stream",
     "text": [
      "[5 4 7 0]\n"
     ]
    },
    {
     "data": {
      "text/plain": [
       "3"
      ]
     },
     "execution_count": 17,
     "metadata": {},
     "output_type": "execute_result"
    }
   ],
   "source": [
    "test1 = np.random.randint(0,10,4)\n",
    "print(test1)\n",
    "np.size(test1[test1!=0])"
   ]
  },
  {
   "cell_type": "markdown",
   "id": "4275204f",
   "metadata": {},
   "source": [
    "## ✅ Intermediate Level Questions"
   ]
  },
  {
   "cell_type": "code",
   "execution_count": 18,
   "id": "dbb91433-5582-4ce9-bc7e-b9237ec104ba",
   "metadata": {},
   "outputs": [],
   "source": [
    "# 8. Create a 5x5 identity matrix."
   ]
  },
  {
   "cell_type": "code",
   "execution_count": 19,
   "id": "72059df1-d3c7-467c-a885-df9e2ddf22b2",
   "metadata": {},
   "outputs": [
    {
     "data": {
      "text/plain": [
       "array([[1., 0., 0., 0., 0.],\n",
       "       [0., 1., 0., 0., 0.],\n",
       "       [0., 0., 1., 0., 0.],\n",
       "       [0., 0., 0., 1., 0.],\n",
       "       [0., 0., 0., 0., 1.]])"
      ]
     },
     "execution_count": 19,
     "metadata": {},
     "output_type": "execute_result"
    }
   ],
   "source": [
    "np.eye(5)"
   ]
  },
  {
   "cell_type": "code",
   "execution_count": 20,
   "id": "de16ca6a-b382-41d1-a1dd-30661a777e35",
   "metadata": {},
   "outputs": [],
   "source": [
    "# 9. Generate a random array of size (4, 4) with values between 0 and 1."
   ]
  },
  {
   "cell_type": "code",
   "execution_count": 21,
   "id": "1d904ad2-866a-44f8-b691-f6ea2d5b3217",
   "metadata": {},
   "outputs": [
    {
     "data": {
      "text/plain": [
       "array([[0.72607073, 0.88729463, 0.36146074, 0.81825996],\n",
       "       [0.63654028, 0.62286332, 0.50831816, 0.13909036],\n",
       "       [0.72416862, 0.27902793, 0.68209565, 0.34801334],\n",
       "       [0.1450504 , 0.28571162, 0.47454122, 0.94573601]])"
      ]
     },
     "execution_count": 21,
     "metadata": {},
     "output_type": "execute_result"
    }
   ],
   "source": [
    "np.random.rand(16).reshape(4,4)"
   ]
  },
  {
   "cell_type": "code",
   "execution_count": 22,
   "id": "ffc76c36-cbb5-452e-9de3-4f1dcf08fa40",
   "metadata": {},
   "outputs": [],
   "source": [
    "# 10. Create a 6x6 matrix with values 1 to 36 and extract the 2nd row."
   ]
  },
  {
   "cell_type": "code",
   "execution_count": 23,
   "id": "64003396-78b7-48f4-a904-01df2f8fe90f",
   "metadata": {},
   "outputs": [
    {
     "data": {
      "text/plain": [
       "array([ 7,  8,  9, 10, 11, 12])"
      ]
     },
     "execution_count": 23,
     "metadata": {},
     "output_type": "execute_result"
    }
   ],
   "source": [
    "(np.arange(1,37).reshape(6,6))[1]"
   ]
  },
  {
   "cell_type": "code",
   "execution_count": 24,
   "id": "620ee465-04b8-4418-a077-07ca5c4dcfb1",
   "metadata": {},
   "outputs": [],
   "source": [
    "# 11. Replace all values greater than 10 in an array with 10."
   ]
  },
  {
   "cell_type": "code",
   "execution_count": 25,
   "id": "cd9fd56f-c3f7-4820-a9ca-9a95527e2060",
   "metadata": {},
   "outputs": [
    {
     "data": {
      "text/plain": [
       "array([10, 10, 10,  2, 10])"
      ]
     },
     "execution_count": 25,
     "metadata": {},
     "output_type": "execute_result"
    }
   ],
   "source": [
    "new_arr = np.random.randint(1,100,5)\n",
    "new_arr[new_arr>10]=10\n",
    "new_arr"
   ]
  },
  {
   "cell_type": "code",
   "execution_count": 26,
   "id": "dc4bf43b-398d-41de-861d-8bba0a12c70b",
   "metadata": {},
   "outputs": [],
   "source": [
    "# 12. Split the array np.arange(16).reshape(4, 4) into 4 equal sub-arrays."
   ]
  },
  {
   "cell_type": "code",
   "execution_count": 27,
   "id": "4dfde886-8046-4f32-ac6e-e884de545919",
   "metadata": {},
   "outputs": [
    {
     "data": {
      "text/plain": [
       "[array([0, 1, 2, 3]),\n",
       " array([4, 5, 6, 7]),\n",
       " array([ 8,  9, 10, 11]),\n",
       " array([12, 13, 14, 15])]"
      ]
     },
     "execution_count": 27,
     "metadata": {},
     "output_type": "execute_result"
    }
   ],
   "source": [
    "sample_arr = np.arange(16)\n",
    "np.split(sample_arr,4)"
   ]
  },
  {
   "cell_type": "code",
   "execution_count": 28,
   "id": "c7fba795-62a3-43a0-870a-8e477615fc3f",
   "metadata": {},
   "outputs": [],
   "source": [
    "# 13. Find the mean, standard deviation, and variance of an array."
   ]
  },
  {
   "cell_type": "code",
   "execution_count": 29,
   "id": "dff0f33c-76f1-45c0-abdb-e9a0bf0d8102",
   "metadata": {},
   "outputs": [],
   "source": [
    "test_arr = np.arange(16)"
   ]
  },
  {
   "cell_type": "code",
   "execution_count": 30,
   "id": "0cd9349d-ac6a-4e4e-973b-f4f2f0b77df2",
   "metadata": {},
   "outputs": [
    {
     "name": "stdout",
     "output_type": "stream",
     "text": [
      "7.5,4.6097722286464435,21.25\n"
     ]
    }
   ],
   "source": [
    "print(f\"{np.mean(test_arr)},{np.std(test_arr)},{np.var(test_arr)}\")"
   ]
  },
  {
   "cell_type": "code",
   "execution_count": 31,
   "id": "e3e6bc24-9635-47d7-80a7-981bcc0672d6",
   "metadata": {},
   "outputs": [],
   "source": [
    "# 14. Sort a 2D array by the second column."
   ]
  },
  {
   "cell_type": "code",
   "execution_count": 32,
   "id": "b6d9d23f-7c03-4d30-8c88-adf2907a21bd",
   "metadata": {},
   "outputs": [
    {
     "name": "stdout",
     "output_type": "stream",
     "text": [
      "[[0 2]\n",
      " [6 4]\n",
      " [8 5]]\n"
     ]
    }
   ],
   "source": [
    "arr = np.array([0,2,6,4,8,5]).reshape(3,2)\n",
    "sorted_arr = arr[arr[:, 1].argsort()]\n",
    "print(sorted_arr)"
   ]
  },
  {
   "cell_type": "code",
   "execution_count": 33,
   "id": "d48b14a4-b159-4255-8c51-4dd8a0feacd1",
   "metadata": {},
   "outputs": [],
   "source": [
    "# 15. Create a boolean mask where values > 50 in an array are True."
   ]
  },
  {
   "cell_type": "code",
   "execution_count": 34,
   "id": "1276e9fa-51d5-442f-a183-f7c2b76fbb60",
   "metadata": {},
   "outputs": [
    {
     "data": {
      "text/plain": [
       "array([False,  True,  True,  True])"
      ]
     },
     "execution_count": 34,
     "metadata": {},
     "output_type": "execute_result"
    }
   ],
   "source": [
    "arr = np.random.randint(1,100,4)\n",
    "arr>50"
   ]
  },
  {
   "cell_type": "markdown",
   "id": "a8538434",
   "metadata": {},
   "source": [
    "## 🧠 Bonus Challenges"
   ]
  },
  {
   "cell_type": "code",
   "execution_count": 35,
   "id": "e2642fed-bbc5-40da-a25f-d992e7778567",
   "metadata": {},
   "outputs": [],
   "source": [
    "# Normalize the data (min-max scaling)"
   ]
  },
  {
   "cell_type": "code",
   "execution_count": 36,
   "id": "167ba6e4",
   "metadata": {},
   "outputs": [
    {
     "data": {
      "text/plain": [
       "array([0.  , 0.25, 0.5 , 0.75, 1.  ])"
      ]
     },
     "execution_count": 36,
     "metadata": {},
     "output_type": "execute_result"
    }
   ],
   "source": [
    "data = np.array([5, 10, 15, 20, 25])\n",
    "\n",
    "# Min-Max Normalization\n",
    "data_min = np.min(data)\n",
    "data_max = np.max(data)\n",
    "\n",
    "normalized_data = (data - data_min) / (data_max - data_min)\n",
    "normalized_data"
   ]
  },
  {
   "cell_type": "code",
   "execution_count": 37,
   "id": "13a78e1b-a42f-420d-9868-090ba330b820",
   "metadata": {},
   "outputs": [],
   "source": [
    "# Remove duplicate elements from a 1D array"
   ]
  },
  {
   "cell_type": "code",
   "execution_count": 38,
   "id": "9ad156c7",
   "metadata": {},
   "outputs": [
    {
     "data": {
      "text/plain": [
       "array([0, 1, 2, 3, 4, 5, 6, 7, 8, 9])"
      ]
     },
     "execution_count": 38,
     "metadata": {},
     "output_type": "execute_result"
    }
   ],
   "source": [
    "new_arr = np.random.randint(0,10,15)\n",
    "np.unique(new_arr)"
   ]
  },
  {
   "cell_type": "code",
   "execution_count": null,
   "id": "98e50b40-64fe-4f77-99b9-b3a6c0651d56",
   "metadata": {},
   "outputs": [],
   "source": [
    "# Convert a list of lists into a NumPy matrix and find the dot product"
   ]
  },
  {
   "cell_type": "code",
   "execution_count": 39,
   "id": "13e1c241",
   "metadata": {},
   "outputs": [],
   "source": [
    "a,b= np.split(np.arange(16).reshape(4,4),2)"
   ]
  },
  {
   "cell_type": "code",
   "execution_count": 40,
   "id": "02401a33-a1fa-4890-93d7-731d623a6b52",
   "metadata": {},
   "outputs": [
    {
     "data": {
      "text/plain": [
       "array([[0, 1, 2, 3],\n",
       "       [4, 5, 6, 7]])"
      ]
     },
     "execution_count": 40,
     "metadata": {},
     "output_type": "execute_result"
    }
   ],
   "source": [
    "a"
   ]
  },
  {
   "cell_type": "code",
   "execution_count": 41,
   "id": "9def172e-a804-4c4e-a4d4-2a4c562f855a",
   "metadata": {},
   "outputs": [
    {
     "data": {
      "text/plain": [
       "array([[ 8,  9, 10, 11],\n",
       "       [12, 13, 14, 15]])"
      ]
     },
     "execution_count": 41,
     "metadata": {},
     "output_type": "execute_result"
    }
   ],
   "source": [
    "b"
   ]
  },
  {
   "cell_type": "code",
   "execution_count": 42,
   "id": "ff5c0b7c-77f4-4ae7-b57a-326d712ef01c",
   "metadata": {},
   "outputs": [
    {
     "data": {
      "text/plain": [
       "array([[ 62,  86],\n",
       "       [214, 302]])"
      ]
     },
     "execution_count": 42,
     "metadata": {},
     "output_type": "execute_result"
    }
   ],
   "source": [
    "np.dot(a,b.T)"
   ]
  },
  {
   "cell_type": "code",
   "execution_count": null,
   "id": "8a98213f-e346-4bba-8c7c-c58a83b343fa",
   "metadata": {},
   "outputs": [],
   "source": []
  }
 ],
 "metadata": {
  "kernelspec": {
   "display_name": "Python 3 (ipykernel)",
   "language": "python",
   "name": "python3"
  },
  "language_info": {
   "codemirror_mode": {
    "name": "ipython",
    "version": 3
   },
   "file_extension": ".py",
   "mimetype": "text/x-python",
   "name": "python",
   "nbconvert_exporter": "python",
   "pygments_lexer": "ipython3",
   "version": "3.12.7"
  }
 },
 "nbformat": 4,
 "nbformat_minor": 5
}
